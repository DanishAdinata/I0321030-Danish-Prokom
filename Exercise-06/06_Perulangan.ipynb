{
 "cells": [
  {
   "cell_type": "markdown",
   "metadata": {},
   "source": [
    "***\n",
    "<h1 align=\"center\">Exercise 06</h1>\n",
    " \n",
    "***\n",
    "## While Loop\n",
    "## Exercise 6.1\n",
    "isilah bagian rumpang berikut. xx diganti tanggal lahir dan yy diganti menjadi bulan lahir. tandanya menyesuaikan yang lebih besar."
   ]
  },
  {
   "cell_type": "code",
   "execution_count": 10,
   "metadata": {},
   "outputs": [
    {
     "name": "stdout",
     "output_type": "stream",
     "text": [
      "Selalu Bersabar dan Jangan Cepat Puas\n",
      "Selalu Bersabar dan Jangan Cepat Puas\n",
      "Selalu Bersabar dan Jangan Cepat Puas\n",
      "Selalu Bersabar dan Jangan Cepat Puas\n",
      "Selalu Bersabar dan Jangan Cepat Puas\n",
      "Selalu Bersabar dan Jangan Cepat Puas\n",
      "Selalu Bersabar dan Jangan Cepat Puas\n",
      "Selalu Bersabar dan Jangan Cepat Puas\n",
      "Selalu Bersabar dan Jangan Cepat Puas\n",
      "Selalu Bersabar dan Jangan Cepat Puas\n"
     ]
    }
   ],
   "source": [
    "#menentukan banyak pengulangan\n",
    "n = 13\n",
    "\n",
    "#melakukan pengulangan\n",
    "i = 4\n",
    "\n",
    "while i <= n :\n",
    "    print (\"Selalu Bersabar dan Jangan Cepat Puas\")\n",
    "    #diisi motto kalian\n",
    "    i = i + 1 # sesuaikan dengan atas agar fungsi perulangan dapat berhenti\n"
   ]
  },
  {
   "cell_type": "markdown",
   "metadata": {},
   "source": [
    "## Exercise 6.2\n",
    "\n",
    "Buatlah code seperti yang dicontohkan pada modul agar user dapat menginputkan sendiri jumlah n yang diinginkan"
   ]
  },
  {
   "cell_type": "code",
   "execution_count": 12,
   "metadata": {},
   "outputs": [
    {
     "name": "stdout",
     "output_type": "stream",
     "text": [
      "6\n",
      "7\n",
      "8\n",
      "9\n",
      "10\n",
      "11\n",
      "12\n",
      "13\n"
     ]
    }
   ],
   "source": [
    "#Kerjakan disini\n",
    "\n",
    "#Kerjakan disini\n",
    "n = int(input('input nilai n: '))\n",
    "i = 6\n",
    "while i <= n :\n",
    "    print(i)\n",
    "    i = i + 1\n"
   ]
  },
  {
   "cell_type": "markdown",
   "metadata": {},
   "source": [
    "## Excercise 6.3\n",
    "\n",
    "isilah xx, yy, dan tanda rumpang seperti pada exercise 6.1\n"
   ]
  },
  {
   "cell_type": "code",
   "execution_count": 13,
   "metadata": {},
   "outputs": [
    {
     "name": "stdout",
     "output_type": "stream",
     "text": [
      "Baris ke-13 : Lord Of The Rings\n",
      "Baris ke-12 : Lord Of The Rings\n",
      "Baris ke-11 : Lord Of The Rings\n",
      "Baris ke-10 : Lord Of The Rings\n",
      "Baris ke-9 : Lord Of The Rings\n",
      "Baris ke-8 : Lord Of The Rings\n",
      "Baris ke-7 : Lord Of The Rings\n",
      "Baris ke-6 : Lord Of The Rings\n",
      "Baris ke-5 : Lord Of The Rings\n",
      "Baris ke-4 : Lord Of The Rings\n"
     ]
    }
   ],
   "source": [
    "#melakukan pengulangan\n",
    "i = 13\n",
    "\n",
    "while i >= 4 :\n",
    "    print (\"Baris ke-%d : Lord Of The Rings\" %i)\n",
    "    #isi titik-titik dengan judul film favorit kalian\n",
    "    i = i - 1 "
   ]
  },
  {
   "cell_type": "markdown",
   "metadata": {},
   "source": [
    "## FOR LOOP\n",
    "\n",
    "## Exercise 6.4\n",
    "\n",
    "munculkan 3 dari 7 elemen yang berada di dalam list1 dan list2\n"
   ]
  },
  {
   "cell_type": "code",
   "execution_count": 14,
   "metadata": {},
   "outputs": [
    {
     "name": "stdout",
     "output_type": "stream",
     "text": [
      "1 Nasi Goreng Bekasi\n",
      "2 Mie Goreng Solo\n",
      "3 Ketoprak Jakarta\n"
     ]
    }
   ],
   "source": [
    "list1 = ['Nasi Goreng', 'Mie Goreng', 'Ketoprak', 'Bubur Ayam', 'Nasi Padang', 'Sate Ayam', 'Soto Lamongan'] #masukkan 7 list makanan favorit kalian\n",
    "list2 = ['Bekasi', 'Solo', 'Jakarta', 'Bandung', 'Yogyakarta', 'Surabaya', 'Semarang'] #masukkan 7 list kota favorit kalian\n",
    "\n",
    "for i in range(0,3) :\n",
    "    print(i+1, list1[i] , list2[i])"
   ]
  },
  {
   "cell_type": "markdown",
   "metadata": {},
   "source": [
    "## Perulangan Bersarang\n",
    "\n",
    "## Exercise 6.5"
   ]
  },
  {
   "cell_type": "code",
   "execution_count": 15,
   "metadata": {},
   "outputs": [
    {
     "name": "stdout",
     "output_type": "stream",
     "text": [
      "169 \n",
      "156 144 \n",
      "143 132 121 \n",
      "130 120 110 100 \n",
      "117 108 99 90 81 \n",
      "104 96 88 80 72 64 \n",
      "91 84 77 70 63 56 49 \n",
      "78 72 66 60 54 48 42 36 \n",
      "65 60 55 50 45 40 35 30 25 \n",
      "52 48 44 40 36 32 28 24 20 16 \n"
     ]
    }
   ],
   "source": [
    "i = 13\n",
    "while i >= 4:\n",
    "    j = 13\n",
    "    while j>=i:\n",
    "        print(\"%d \" % (i*j), end = '')\n",
    "        j = j - 1\n",
    "    print()\n",
    "    i-=1"
   ]
  },
  {
   "cell_type": "markdown",
   "metadata": {},
   "source": [
    "## Pernyataan Loncat\n",
    "\n",
    "## Exercise 6.\n",
    "\n",
    "Buatlah fungsi berikut agar muncul angka hingga berhenti sesuai dengan nilai qq\n",
    "qq = angka favorit kalian\n",
    "pp>qq"
   ]
  },
  {
   "cell_type": "code",
   "execution_count": 16,
   "metadata": {},
   "outputs": [
    {
     "name": "stdout",
     "output_type": "stream",
     "text": [
      "012345678910"
     ]
    }
   ],
   "source": [
    "for i in range(13):\n",
    "    print(i,end='')\n",
    "    if i == 10:\n",
    "        break"
   ]
  },
  {
   "cell_type": "markdown",
   "metadata": {},
   "source": [
    "***\n",
    "<h1 align=\"center\">WELL DONE</h1>\n",
    " \n",
    "***"
   ]
  }
 ],
 "metadata": {
  "interpreter": {
   "hash": "cd08f94adcf3cbae37fe85286256f4c2a10455ca9094fd053e9f3d3f09647223"
  },
  "kernelspec": {
   "display_name": "Python 3.9.7 64-bit",
   "language": "python",
   "name": "python3"
  },
  "language_info": {
   "codemirror_mode": {
    "name": "ipython",
    "version": 3
   },
   "file_extension": ".py",
   "mimetype": "text/x-python",
   "name": "python",
   "nbconvert_exporter": "python",
   "pygments_lexer": "ipython3",
   "version": "3.9.7"
  },
  "orig_nbformat": 4
 },
 "nbformat": 4,
 "nbformat_minor": 2
}
